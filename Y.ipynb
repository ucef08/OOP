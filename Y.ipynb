{
 "cells": [
  {
   "cell_type": "code",
   "execution_count": null,
   "metadata": {},
   "outputs": [],
   "source": [
    "# Sauvegarde dans github\n",
    "import os\n",
    "def maj(commentaire):\n",
    "    !cd /.\n",
    "    os.chdir(os.getcwd())\n",
    "    !git init >NUL 2>&1\n",
    "    !git add . >NUL 2>&1\n",
    "    !git commit -m commentaire >NUL 2>&1\n",
    "    !git push -u origin main >NUL 2>&1\n",
    "maj(\"création du fichier OOP\")"
   ]
  }
 ],
 "metadata": {
  "language_info": {
   "name": "python"
  },
  "orig_nbformat": 4
 },
 "nbformat": 4,
 "nbformat_minor": 2
}
