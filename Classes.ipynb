{
 "cells": [
  {
   "cell_type": "code",
   "execution_count": null,
   "metadata": {},
   "outputs": [],
   "source": [
    "class Personne:\n",
    "    def __init__(self, nom='Inconnu', age=0):\n",
    "        self.nom = nom\n",
    "        self.age = age\n",
    "\n",
    "    def se_presenter(self):\n",
    "        print(\"Bonjour, je m'appelle \" + self.nom + \" et j'ai \" + str(self.age) + \" ans.\")\n",
    "\n",
    "    @property\n",
    "    def age(self):\n",
    "        print(\"Récupération de l'âge\")\n",
    "        return self._age\n",
    "\n",
    "    @age.setter\n",
    "\n",
    "    def age(self, value):\n",
    "        print(\"Mise à jour de l'âge\")\n",
    "        if value < 0:\n",
    "            print(\"L'âge ne peut pas être négatif!\")\n",
    "        else:\n",
    "            self._age = value\n"
   ]
  },
  {
   "cell_type": "markdown",
   "metadata": {},
   "source": [
    "# -------------------------------------------------------------"
   ]
  },
  {
   "cell_type": "code",
   "execution_count": 4,
   "metadata": {},
   "outputs": [
    {
     "name": "stdout",
     "output_type": "stream",
     "text": [
      "Bonjour, je m'appelle Alice et j'ai 30 ans.\n",
      "Bonjour, je m'appelle Inconnu et j'ai 30 ans.\n",
      "Bonjour, je m'appelle Inconnu et j'ai 0 ans.\n"
     ]
    }
   ],
   "source": [
    "# Définition de la classe\n",
    "class Personne:\n",
    "    # Le constructeur __init__ est appelé à la création d'une instance de la classe.\n",
    "    def __init__(self, nom='Inconnu', age=0):\n",
    "        # Les attributs de l'objet. Ceux-ci sont souvent initialisés dans le constructeur.\n",
    "        self.nom = nom\n",
    "        self.age = age\n",
    "\n",
    "    # Une méthode de la classe. Les méthodes sont des fonctions qui peuvent accéder et modifier les attributs de l'objet.\n",
    "    def se_presenter(self):\n",
    "        print(\"Bonjour, je m'appelle \" + self.nom + \" et j'ai \" + str(self.age) + \" ans.\")\n",
    "\n",
    "    # Ceci est une propriété (getter)\n",
    "    @property\n",
    "    # Le décorateur @property est une façon en Python de transformer une méthode en attribut d'instance \"getter\".\n",
    "    # C'est-à-dire que vous pouvez appeler cette méthode comme si elle était un attribut plutôt qu'une méthode.\n",
    "    # Par exemple, si vous avez une méthode age(self) et que vous la décorez avec @property, vous pouvez obtenir la valeur avec obj.age au lieu de obj.age().\n",
    "    def age(self):\n",
    "        print(\"Récupération de l'âge\")\n",
    "        return self._age\n",
    "\n",
    "\n",
    "    # Ceci est un setter pour la propriété 'age'\n",
    "    @age.setter\n",
    "    # Le décorateur @age.setter en Python est utilisé pour définir une méthode comme étant le \"setter\" pour une propriété.\n",
    "    # Un \"setter\" est une méthode qui est appelée lorsque vous assignez une valeur à une propriété.\n",
    "    # Sans ce décorateur, vous ne seriez pas capable d'assigner une valeur à la propriété age de cette façon : p.age = 25\n",
    "    # Il vous permet d'ajouter une logique supplémentaire lors de l'assignation d'une valeur à une propriété, comme la validation de la valeur.\n",
    "    def age(self, value):\n",
    "        print(\"Mise à jour de l'âge\")\n",
    "        if value < 0:\n",
    "            print(\"L'âge ne peut pas être négatif!\")\n",
    "        else:\n",
    "            self._age = value\n",
    "\n",
    "\n",
    "\n",
    "\n",
    "\n",
    "# Utilisation de la classe\n",
    "\n",
    "# Création d'une instance de la classe\n",
    "p = Personne(\"Alice\", 30)\n",
    "q = Personne(age = 30)\n",
    "r = Personne()\n",
    "\n",
    "# Appel d'une méthode de l'objet\n",
    "p.se_presenter()  # Affiche : Bonjour, je m'appelle Alice et j'ai 30 ans.\n",
    "q.se_presenter() \n",
    "r.se_presenter() "
   ]
  }
 ],
 "metadata": {
  "kernelspec": {
   "display_name": "env160623",
   "language": "python",
   "name": "python3"
  },
  "language_info": {
   "codemirror_mode": {
    "name": "ipython",
    "version": 3
   },
   "file_extension": ".py",
   "mimetype": "text/x-python",
   "name": "python",
   "nbconvert_exporter": "python",
   "pygments_lexer": "ipython3",
   "version": "3.11.4"
  },
  "orig_nbformat": 4
 },
 "nbformat": 4,
 "nbformat_minor": 2
}
